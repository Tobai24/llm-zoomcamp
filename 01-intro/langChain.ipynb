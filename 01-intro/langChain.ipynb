{
 "cells": [
  {
   "cell_type": "code",
   "execution_count": 52,
   "id": "b6095c52-b866-430c-8c85-8cfb7213041f",
   "metadata": {},
   "outputs": [],
   "source": [
    "from langchain.chains import RetrievalQA\n",
    "from langchain.chat_models import ChatOpenAI\n",
    "from langchain.document_loaders import CSVLoader\n",
    "from langchain.vectorstores import DocArrayInMemorySearch\n",
    "from IPython.display import display, Markdown\n",
    "from langchain.llms import OpenAI\n",
    "from langchain.schema import Document\n",
    "import json"
   ]
  },
  {
   "cell_type": "code",
   "execution_count": 53,
   "id": "0b36779c-e619-435e-a987-dd19894fa719",
   "metadata": {},
   "outputs": [],
   "source": [
    "class JSONLoader:\n",
    "    def __init__(self, file_path):\n",
    "        self.file_path = file_path\n",
    "\n",
    "    def load(self):\n",
    "        with open(self.file_path, 'r') as f_in:\n",
    "            docs_raw = json.load(f_in)\n",
    "        \n",
    "        documents = []\n",
    "        for item in docs_raw:\n",
    "            for doc_data in item.get(\"documents\", []):\n",
    "                # Assuming 'text' and 'course' are fields in your JSON\n",
    "                text = doc_data.get('text', '')  \n",
    "                course = item.get('course', '')  \n",
    "\n",
    "                doc = Document(\n",
    "                    page_content=text,\n",
    "                    metadata={\"course\": course, \"source\": self.file_path}  # Adjust metadata fields as needed\n",
    "                )\n",
    "                documents.append(doc)\n",
    "        \n",
    "        return documents\n"
   ]
  },
  {
   "cell_type": "code",
   "execution_count": 54,
   "id": "dfcc0a20-dd99-45f6-a56c-9e4d71aafaa9",
   "metadata": {},
   "outputs": [],
   "source": [
    "json_loader = JSONLoader(\"documents.json\")"
   ]
  },
  {
   "cell_type": "code",
   "execution_count": 55,
   "id": "8157c7a5-4248-476c-810f-d50b0bccb077",
   "metadata": {},
   "outputs": [],
   "source": [
    "documents = json_loader.load()"
   ]
  },
  {
   "cell_type": "code",
   "execution_count": 56,
   "id": "9ac8fb20-9955-4e97-830b-89e5a429056d",
   "metadata": {},
   "outputs": [],
   "source": [
    "from langchain.embeddings import OpenAIEmbeddings\n",
    "embeddings = OpenAIEmbeddings()"
   ]
  },
  {
   "cell_type": "code",
   "execution_count": 57,
   "id": "fdec5717-0aa3-419b-97e8-1967af01657d",
   "metadata": {},
   "outputs": [],
   "source": [
    "db = DocArrayInMemorySearch.from_documents(\n",
    "    documents, \n",
    "    embeddings\n",
    ")"
   ]
  },
  {
   "cell_type": "code",
   "execution_count": 71,
   "id": "072c29b2-c321-40a3-91bc-bebf3fc55eaf",
   "metadata": {},
   "outputs": [],
   "source": [
    "retriever = db.as_retriever()"
   ]
  },
  {
   "cell_type": "code",
   "execution_count": 72,
   "id": "969a35f2-a28f-4710-b7da-4affb46dfa6e",
   "metadata": {},
   "outputs": [],
   "source": [
    "llm = ChatOpenAI(model=\"gpt-3.5-turbo\", temperature=0.7)\n",
    "qa_chain = RetrievalQA.from_chain_type(llm=llm, chain_type=\"stuff\", retriever=retriever)"
   ]
  },
  {
   "cell_type": "code",
   "execution_count": 69,
   "id": "d07ec2d2-2aae-4a6d-b3ef-fadec9d9ee2a",
   "metadata": {},
   "outputs": [],
   "source": [
    "query = \"can i still join the course after it has started?\""
   ]
  },
  {
   "cell_type": "code",
   "execution_count": null,
   "id": "7e60fc8f-2b65-499a-becf-ce6e6fae8482",
   "metadata": {},
   "outputs": [],
   "source": [
    "response = qa_chain.run(query)"
   ]
  },
  {
   "cell_type": "code",
   "execution_count": 68,
   "id": "759427df-8f25-4a05-a338-a134b56644e6",
   "metadata": {},
   "outputs": [
    {
     "data": {
      "text/markdown": [
       "To answer your question about joining a course after it has started, it would be best to refer to the specific guidelines and policies of the course or educational institution you are interested in. Each institution may have different rules regarding late enrollment, so it is recommended to reach out to the course coordinator or admissions office directly for accurate information."
      ],
      "text/plain": [
       "<IPython.core.display.Markdown object>"
      ]
     },
     "metadata": {},
     "output_type": "display_data"
    }
   ],
   "source": [
    "display(Markdown(response))"
   ]
  },
  {
   "cell_type": "code",
   "execution_count": null,
   "id": "4876d9f6-f3c5-416c-8c73-55e007b3b4df",
   "metadata": {},
   "outputs": [],
   "source": []
  }
 ],
 "metadata": {
  "kernelspec": {
   "display_name": "Python 3 (ipykernel)",
   "language": "python",
   "name": "python3"
  },
  "language_info": {
   "codemirror_mode": {
    "name": "ipython",
    "version": 3
   },
   "file_extension": ".py",
   "mimetype": "text/x-python",
   "name": "python",
   "nbconvert_exporter": "python",
   "pygments_lexer": "ipython3",
   "version": "3.10.13"
  }
 },
 "nbformat": 4,
 "nbformat_minor": 5
}
