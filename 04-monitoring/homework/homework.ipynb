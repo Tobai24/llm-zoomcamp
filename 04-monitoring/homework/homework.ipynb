{
 "cells": [
  {
   "cell_type": "markdown",
   "id": "9d269db0-f10a-45c3-acfb-d4ef97624f8e",
   "metadata": {},
   "source": [
    "## Import the data"
   ]
  },
  {
   "cell_type": "code",
   "execution_count": 3,
   "id": "32a2519c-3e0c-43dd-8e71-343fcd43711c",
   "metadata": {},
   "outputs": [],
   "source": [
    "import pandas as pd"
   ]
  },
  {
   "cell_type": "code",
   "execution_count": 4,
   "id": "a6902627-d7a5-4c53-b6d7-85d2b9235e89",
   "metadata": {},
   "outputs": [],
   "source": [
    "github_url = \"https://github.com/DataTalksClub/llm-zoomcamp/blob/main/04-monitoring/data/results-gpt4o-mini.csv\"\n",
    "\n",
    "url = f'{github_url}?raw=1'\n",
    "df = pd.read_csv(url)"
   ]
  },
  {
   "cell_type": "code",
   "execution_count": 6,
   "id": "c8dbcf2c-9f71-40aa-bda5-bcf9063ca20c",
   "metadata": {},
   "outputs": [],
   "source": [
    "df_new = df.iloc[:300]"
   ]
  },
  {
   "cell_type": "code",
   "execution_count": 8,
   "id": "6a56a7be-8154-4cdf-9862-6a11b165d459",
   "metadata": {},
   "outputs": [
    {
     "data": {
      "text/plain": [
       "(300, 5)"
      ]
     },
     "execution_count": 8,
     "metadata": {},
     "output_type": "execute_result"
    }
   ],
   "source": [
    "# check the shape of the data\n",
    "df_new.shape"
   ]
  },
  {
   "cell_type": "code",
   "execution_count": 13,
   "id": "c987874b-d001-4b60-bce0-2757c8a92239",
   "metadata": {},
   "outputs": [
    {
     "data": {
      "text/html": [
       "<div>\n",
       "<style scoped>\n",
       "    .dataframe tbody tr th:only-of-type {\n",
       "        vertical-align: middle;\n",
       "    }\n",
       "\n",
       "    .dataframe tbody tr th {\n",
       "        vertical-align: top;\n",
       "    }\n",
       "\n",
       "    .dataframe thead th {\n",
       "        text-align: right;\n",
       "    }\n",
       "</style>\n",
       "<table border=\"1\" class=\"dataframe\">\n",
       "  <thead>\n",
       "    <tr style=\"text-align: right;\">\n",
       "      <th></th>\n",
       "      <th>answer_llm</th>\n",
       "      <th>answer_orig</th>\n",
       "      <th>document</th>\n",
       "      <th>question</th>\n",
       "      <th>course</th>\n",
       "    </tr>\n",
       "  </thead>\n",
       "  <tbody>\n",
       "    <tr>\n",
       "      <th>0</th>\n",
       "      <td>You can sign up for the course by visiting the...</td>\n",
       "      <td>Machine Learning Zoomcamp FAQ\\nThe purpose of ...</td>\n",
       "      <td>0227b872</td>\n",
       "      <td>Where can I sign up for the course?</td>\n",
       "      <td>machine-learning-zoomcamp</td>\n",
       "    </tr>\n",
       "    <tr>\n",
       "      <th>1</th>\n",
       "      <td>You can sign up using the link provided in the...</td>\n",
       "      <td>Machine Learning Zoomcamp FAQ\\nThe purpose of ...</td>\n",
       "      <td>0227b872</td>\n",
       "      <td>Can you provide a link to sign up?</td>\n",
       "      <td>machine-learning-zoomcamp</td>\n",
       "    </tr>\n",
       "    <tr>\n",
       "      <th>2</th>\n",
       "      <td>Yes, there is an FAQ for the Machine Learning ...</td>\n",
       "      <td>Machine Learning Zoomcamp FAQ\\nThe purpose of ...</td>\n",
       "      <td>0227b872</td>\n",
       "      <td>Is there an FAQ for this Machine Learning course?</td>\n",
       "      <td>machine-learning-zoomcamp</td>\n",
       "    </tr>\n",
       "    <tr>\n",
       "      <th>3</th>\n",
       "      <td>The context does not provide any specific info...</td>\n",
       "      <td>Machine Learning Zoomcamp FAQ\\nThe purpose of ...</td>\n",
       "      <td>0227b872</td>\n",
       "      <td>Does this course have a GitHub repository for ...</td>\n",
       "      <td>machine-learning-zoomcamp</td>\n",
       "    </tr>\n",
       "    <tr>\n",
       "      <th>4</th>\n",
       "      <td>To structure your questions and answers for th...</td>\n",
       "      <td>Machine Learning Zoomcamp FAQ\\nThe purpose of ...</td>\n",
       "      <td>0227b872</td>\n",
       "      <td>How can I structure my questions and answers f...</td>\n",
       "      <td>machine-learning-zoomcamp</td>\n",
       "    </tr>\n",
       "  </tbody>\n",
       "</table>\n",
       "</div>"
      ],
      "text/plain": [
       "                                          answer_llm  \\\n",
       "0  You can sign up for the course by visiting the...   \n",
       "1  You can sign up using the link provided in the...   \n",
       "2  Yes, there is an FAQ for the Machine Learning ...   \n",
       "3  The context does not provide any specific info...   \n",
       "4  To structure your questions and answers for th...   \n",
       "\n",
       "                                         answer_orig  document  \\\n",
       "0  Machine Learning Zoomcamp FAQ\\nThe purpose of ...  0227b872   \n",
       "1  Machine Learning Zoomcamp FAQ\\nThe purpose of ...  0227b872   \n",
       "2  Machine Learning Zoomcamp FAQ\\nThe purpose of ...  0227b872   \n",
       "3  Machine Learning Zoomcamp FAQ\\nThe purpose of ...  0227b872   \n",
       "4  Machine Learning Zoomcamp FAQ\\nThe purpose of ...  0227b872   \n",
       "\n",
       "                                            question  \\\n",
       "0                Where can I sign up for the course?   \n",
       "1                 Can you provide a link to sign up?   \n",
       "2  Is there an FAQ for this Machine Learning course?   \n",
       "3  Does this course have a GitHub repository for ...   \n",
       "4  How can I structure my questions and answers f...   \n",
       "\n",
       "                      course  \n",
       "0  machine-learning-zoomcamp  \n",
       "1  machine-learning-zoomcamp  \n",
       "2  machine-learning-zoomcamp  \n",
       "3  machine-learning-zoomcamp  \n",
       "4  machine-learning-zoomcamp  "
      ]
     },
     "execution_count": 13,
     "metadata": {},
     "output_type": "execute_result"
    }
   ],
   "source": [
    "# check the column of the dataset\n",
    "df_new.head()"
   ]
  },
  {
   "cell_type": "markdown",
   "id": "830f2c87-a7b0-46d7-b42d-59dfbd927310",
   "metadata": {},
   "source": [
    "## Q1. Getting the embeddings model\n",
    "\n",
    "*Create the embeddings for the first LLM answer:*\n",
    "\n",
    "```python\n",
    "answer_llm = df.iloc[0].answer_llm\n",
    "```\n",
    "*What's the first value of the resulting vector?*"
   ]
  },
  {
   "cell_type": "code",
   "execution_count": 9,
   "id": "4b5222e0-5cee-4d64-b8db-819be46caa5e",
   "metadata": {},
   "outputs": [
    {
     "data": {
      "application/vnd.jupyter.widget-view+json": {
       "model_id": "2fa684a68ef64b3d9c57d3981fee78c4",
       "version_major": 2,
       "version_minor": 0
      },
      "text/plain": [
       "modules.json:   0%|          | 0.00/229 [00:00<?, ?B/s]"
      ]
     },
     "metadata": {},
     "output_type": "display_data"
    },
    {
     "data": {
      "application/vnd.jupyter.widget-view+json": {
       "model_id": "ceda50a1f6174bf3b1fcdf23b2667609",
       "version_major": 2,
       "version_minor": 0
      },
      "text/plain": [
       "config_sentence_transformers.json:   0%|          | 0.00/212 [00:00<?, ?B/s]"
      ]
     },
     "metadata": {},
     "output_type": "display_data"
    },
    {
     "name": "stderr",
     "output_type": "stream",
     "text": [
      "You try to use a model that was created with version 3.0.0.dev0, however, your version is 2.7.0. This might cause unexpected behavior or errors. In that case, try to update to the latest version.\n",
      "\n",
      "\n",
      "\n"
     ]
    },
    {
     "data": {
      "application/vnd.jupyter.widget-view+json": {
       "model_id": "d8e252859d0f475dbb4f6c262251c4bb",
       "version_major": 2,
       "version_minor": 0
      },
      "text/plain": [
       "README.md:   0%|          | 0.00/8.71k [00:00<?, ?B/s]"
      ]
     },
     "metadata": {},
     "output_type": "display_data"
    },
    {
     "data": {
      "application/vnd.jupyter.widget-view+json": {
       "model_id": "f0d316e2901c482b90b233dbbd7db95d",
       "version_major": 2,
       "version_minor": 0
      },
      "text/plain": [
       "sentence_bert_config.json:   0%|          | 0.00/53.0 [00:00<?, ?B/s]"
      ]
     },
     "metadata": {},
     "output_type": "display_data"
    },
    {
     "data": {
      "application/vnd.jupyter.widget-view+json": {
       "model_id": "dab503eca7cc46f4bb850e461339d1e3",
       "version_major": 2,
       "version_minor": 0
      },
      "text/plain": [
       "config.json:   0%|          | 0.00/571 [00:00<?, ?B/s]"
      ]
     },
     "metadata": {},
     "output_type": "display_data"
    },
    {
     "data": {
      "application/vnd.jupyter.widget-view+json": {
       "model_id": "5a1e10318dd040488c3e8fb5af9387cf",
       "version_major": 2,
       "version_minor": 0
      },
      "text/plain": [
       "model.safetensors:   0%|          | 0.00/438M [00:00<?, ?B/s]"
      ]
     },
     "metadata": {},
     "output_type": "display_data"
    },
    {
     "data": {
      "application/vnd.jupyter.widget-view+json": {
       "model_id": "ea68758b1d684ee1b0a6855fbd5a1f35",
       "version_major": 2,
       "version_minor": 0
      },
      "text/plain": [
       "tokenizer_config.json:   0%|          | 0.00/363 [00:00<?, ?B/s]"
      ]
     },
     "metadata": {},
     "output_type": "display_data"
    },
    {
     "data": {
      "application/vnd.jupyter.widget-view+json": {
       "model_id": "a088158c5ca1459c9b9d1b82a66dc0ff",
       "version_major": 2,
       "version_minor": 0
      },
      "text/plain": [
       "vocab.txt:   0%|          | 0.00/232k [00:00<?, ?B/s]"
      ]
     },
     "metadata": {},
     "output_type": "display_data"
    },
    {
     "data": {
      "application/vnd.jupyter.widget-view+json": {
       "model_id": "063b49f8cc684b4986f1ae286973b26c",
       "version_major": 2,
       "version_minor": 0
      },
      "text/plain": [
       "tokenizer.json:   0%|          | 0.00/466k [00:00<?, ?B/s]"
      ]
     },
     "metadata": {},
     "output_type": "display_data"
    },
    {
     "data": {
      "application/vnd.jupyter.widget-view+json": {
       "model_id": "c471e2cd657d4bc0bb54fef196a2cdb3",
       "version_major": 2,
       "version_minor": 0
      },
      "text/plain": [
       "special_tokens_map.json:   0%|          | 0.00/239 [00:00<?, ?B/s]"
      ]
     },
     "metadata": {},
     "output_type": "display_data"
    },
    {
     "data": {
      "application/vnd.jupyter.widget-view+json": {
       "model_id": "66a79c51d96e4fd3945543c8eaf71df5",
       "version_major": 2,
       "version_minor": 0
      },
      "text/plain": [
       "1_Pooling/config.json:   0%|          | 0.00/190 [00:00<?, ?B/s]"
      ]
     },
     "metadata": {},
     "output_type": "display_data"
    }
   ],
   "source": [
    "model_name = \"multi-qa-mpnet-base-dot-v1\"\n",
    "\n",
    "from sentence_transformers import SentenceTransformer\n",
    "embedding_model = SentenceTransformer(model_name)"
   ]
  },
  {
   "cell_type": "code",
   "execution_count": 10,
   "id": "47600d3e-3314-425d-ad71-6e591828972f",
   "metadata": {},
   "outputs": [],
   "source": [
    "answer_llm = df_new.iloc[0].answer_llm"
   ]
  },
  {
   "cell_type": "code",
   "execution_count": 12,
   "id": "f105d8b1-6e1d-4e21-8264-c8df646d2748",
   "metadata": {},
   "outputs": [
    {
     "data": {
      "text/plain": [
       "-0.42244655"
      ]
     },
     "execution_count": 12,
     "metadata": {},
     "output_type": "execute_result"
    }
   ],
   "source": [
    "embedding_model.encode(answer_llm)[0]"
   ]
  },
  {
   "cell_type": "markdown",
   "id": "ed26cbe1-aea5-44fe-a8aa-0840a2ab9b1a",
   "metadata": {},
   "source": [
    "*answer to question one : -0.42*"
   ]
  },
  {
   "cell_type": "markdown",
   "id": "3474a41a-1337-443e-9037-57665d3bc791",
   "metadata": {},
   "source": [
    "## Q2. Computing the dot product\n",
    "\n",
    "*Now for each answer pair, let's create embeddings and compute dot product between them*\n",
    "\n",
    "*We will put the results (scores) into the evaluations list*\n",
    "\n",
    "*What's the 75% percentile of the score?*"
   ]
  },
  {
   "cell_type": "code",
   "execution_count": 14,
   "id": "02466356-8d0f-4b6a-a99e-505a314542da",
   "metadata": {},
   "outputs": [],
   "source": [
    "#used to display progress bar for loops and iterators\n",
    "from tqdm.auto import tqdm"
   ]
  },
  {
   "cell_type": "code",
   "execution_count": 29,
   "id": "10afb6a2-6f55-4827-a813-ff8f34b6dd75",
   "metadata": {},
   "outputs": [
    {
     "data": {
      "application/vnd.jupyter.widget-view+json": {
       "model_id": "14cfb1b0c42a4aa081d4f2479df009e9",
       "version_major": 2,
       "version_minor": 0
      },
      "text/plain": [
       "0it [00:00, ?it/s]"
      ]
     },
     "metadata": {},
     "output_type": "display_data"
    }
   ],
   "source": [
    "evaluation = []\n",
    "\n",
    "for index, record in tqdm(df_new.iterrows()):\n",
    "    answer_org = record['answer_orig']\n",
    "    answer_llm = record['answer_llm']\n",
    "    \n",
    "    llm = embedding_model.encode(answer_org)\n",
    "    orig = embedding_model.encode(answer_llm)\n",
    "    \n",
    "    dot_product = llm.dot(orig)\n",
    "    evaluation.append(dot_product)"
   ]
  },
  {
   "cell_type": "code",
   "execution_count": 30,
   "id": "fbbc5fba-04ab-4743-9d57-98992cf8d5f2",
   "metadata": {},
   "outputs": [
    {
     "name": "stderr",
     "output_type": "stream",
     "text": [
      "/tmp/ipykernel_6101/2975825665.py:1: SettingWithCopyWarning: \n",
      "A value is trying to be set on a copy of a slice from a DataFrame.\n",
      "Try using .loc[row_indexer,col_indexer] = value instead\n",
      "\n",
      "See the caveats in the documentation: https://pandas.pydata.org/pandas-docs/stable/user_guide/indexing.html#returning-a-view-versus-a-copy\n",
      "  df_new[\"score\"] = evaluation\n"
     ]
    }
   ],
   "source": [
    "df_new[\"score\"] = evaluation"
   ]
  },
  {
   "cell_type": "code",
   "execution_count": 31,
   "id": "0c83cba2-d7e4-4c56-9193-4982f76f5b5f",
   "metadata": {},
   "outputs": [
    {
     "data": {
      "text/plain": [
       "count    300.000000\n",
       "mean      27.495996\n",
       "std        6.384742\n",
       "min        4.547923\n",
       "25%       24.307844\n",
       "50%       28.336870\n",
       "75%       31.674309\n",
       "max       39.476013\n",
       "Name: score, dtype: float64"
      ]
     },
     "execution_count": 31,
     "metadata": {},
     "output_type": "execute_result"
    }
   ],
   "source": [
    "df_new[\"score\"].describe()"
   ]
  },
  {
   "cell_type": "markdown",
   "id": "f1eaa620-8e32-4159-a1c2-fa68438d467f",
   "metadata": {},
   "source": [
    "*Answer to question 3: 31.67*"
   ]
  },
  {
   "cell_type": "markdown",
   "id": "2adaf1c2-e43f-4c51-939e-5a9c13450218",
   "metadata": {},
   "source": [
    "## Q3. Computing the cosine\n",
    "\n",
    "*From Q2, we can see that the results are not within the [0, 1] range. It's because the vectors coming from this model are not normalized.*\n",
    "\n",
    "*So we need to normalize them. To do it, we Compute the norm of a vector Divide each element by this norm*\n",
    "\n",
    "*So, for vector v, it'll be* \n",
    "\n",
    "$$\n",
    "\\frac{v}{\\|v\\|}\n",
    "$$ \n",
    "\n",
    "*In numpy, this is how you do it:*\n",
    "\n",
    "```python\n",
    "norm = np.sqrt((v * v).sum())\n",
    "v_norm = v / norm\n",
    "```\n",
    "*Let's put it into a function and then compute dot product between normalized vectors. This will give us cosine similarity*\n",
    "\n",
    "*What's the 75% cosine in the scores?*"
   ]
  },
  {
   "cell_type": "code",
   "execution_count": 32,
   "id": "2335911d-9447-4b97-b590-62b8b0b25386",
   "metadata": {},
   "outputs": [],
   "source": [
    "# import dependency\n",
    "import numpy as np"
   ]
  },
  {
   "cell_type": "code",
   "execution_count": 83,
   "id": "ca129834-9995-4f75-a52c-29fd9f1a1b40",
   "metadata": {},
   "outputs": [],
   "source": [
    "def cosine_similarity(df, embedding_model):\n",
    "    similarity = []\n",
    "\n",
    "    for index, record in tqdm(df.iterrows(), total=df.shape[0]):\n",
    "        answer_org = record['answer_orig']\n",
    "        answer_llm = record['answer_llm']\n",
    "        \n",
    "        # Encode the answers to get the vectors\n",
    "        llm = embedding_model.encode(answer_llm)\n",
    "        orig = embedding_model.encode(answer_org)\n",
    "        \n",
    "        # Compute norms for each vector\n",
    "        norm_llm = np.sqrt(np.sum(llm ** 2))\n",
    "        norm_orig = np.sqrt(np.sum(orig ** 2))\n",
    "        \n",
    "        # Normalize the vectors\n",
    "        llm_norm = llm / norm_llm\n",
    "        orig_norm = orig / norm_orig\n",
    "        \n",
    "        # Compute the cosine similarity (dot product of normalized vectors)\n",
    "        dot_product = np.dot(llm_norm, orig_norm)\n",
    "        similarity.append(dot_product)\n",
    "    \n",
    "    return similarity"
   ]
  },
  {
   "cell_type": "code",
   "execution_count": 81,
   "id": "6ae91074-b4ef-4d8e-bf2d-9e3dc0fcdd75",
   "metadata": {},
   "outputs": [
    {
     "data": {
      "application/vnd.jupyter.widget-view+json": {
       "model_id": "c8ef7716485f4b04a872b3901a40f51a",
       "version_major": 2,
       "version_minor": 0
      },
      "text/plain": [
       "  0%|          | 0/300 [00:00<?, ?it/s]"
      ]
     },
     "metadata": {},
     "output_type": "display_data"
    },
    {
     "name": "stderr",
     "output_type": "stream",
     "text": [
      "/tmp/ipykernel_6101/3944168541.py:1: SettingWithCopyWarning: \n",
      "A value is trying to be set on a copy of a slice from a DataFrame.\n",
      "Try using .loc[row_indexer,col_indexer] = value instead\n",
      "\n",
      "See the caveats in the documentation: https://pandas.pydata.org/pandas-docs/stable/user_guide/indexing.html#returning-a-view-versus-a-copy\n",
      "  df_new[\"cosine\"] = cosine_similarity(df_new, embedding_model)\n"
     ]
    }
   ],
   "source": [
    "df_new[\"cosine\"] = cosine_similarity(df_new, embedding_model)"
   ]
  },
  {
   "cell_type": "code",
   "execution_count": 82,
   "id": "c64cf124-6c9e-49f8-8074-c8a0f914593c",
   "metadata": {},
   "outputs": [
    {
     "data": {
      "text/plain": [
       "count    300.000000\n",
       "mean       0.728393\n",
       "std        0.157755\n",
       "min        0.125357\n",
       "25%        0.651273\n",
       "50%        0.763761\n",
       "75%        0.836235\n",
       "max        0.958796\n",
       "Name: cosine, dtype: float64"
      ]
     },
     "execution_count": 82,
     "metadata": {},
     "output_type": "execute_result"
    }
   ],
   "source": [
    "df_new[\"cosine\"].describe()"
   ]
  },
  {
   "cell_type": "markdown",
   "id": "30539da3-a0fb-4108-95c2-176b7782f937",
   "metadata": {},
   "source": [
    "*Answer to question 3: 0.83*"
   ]
  },
  {
   "cell_type": "markdown",
   "id": "957ed526-e956-4908-b428-66c1acec9387",
   "metadata": {},
   "source": [
    "## Q4. Rouge\n",
    "\n",
    "*Now we will explore an alternative metric - the ROUGE score.*\n",
    "\n",
    "*This is a set of metrics that compares two answers based on the overlap of n-grams, word sequences, and word pairs.*\n",
    "\n",
    "*It can give a more nuanced view of text similarity than just cosine similarity alone.*\n",
    "\n",
    "*We don't need to implement it ourselves, there's a python package for it:*\n",
    "```bash\n",
    "pip install rouge\n",
    "```\n",
    "*(The latest version at the moment of writing is 1.0.1)*\n",
    "\n",
    "*Let's compute the ROUGE score between the answers at the index 10 of our dataframe (doc_id=5170565b)*\n",
    "``` python\n",
    "from rouge import Rouge\n",
    "rouge_scorer = Rouge()\n",
    "scores = rouge_scorer.get_scores(r['answer_llm'], r['answer_orig'])[0]\n",
    "```\n",
    "*There are three scores: rouge-1, rouge-2 and rouge-l, and precision, recall and F1 score for each.*\n",
    "\n",
    "*rouge-1 - the overlap of unigrams, rouge-2 - bigrams, rouge-l - the longest common subsequence*\n",
    "\n",
    "*What's the F score for rouge-1?*"
   ]
  },
  {
   "cell_type": "code",
   "execution_count": 62,
   "id": "02ef1101-540f-415e-b6a1-7bdfe6e325e5",
   "metadata": {},
   "outputs": [],
   "source": [
    "from rouge import Rouge\n",
    "rouge_scorer = Rouge()"
   ]
  },
  {
   "cell_type": "code",
   "execution_count": 66,
   "id": "da644da7-fc5d-4d68-9bbe-8d4570f8e1a4",
   "metadata": {},
   "outputs": [],
   "source": [
    "r = df_new.iloc[10]"
   ]
  },
  {
   "cell_type": "code",
   "execution_count": 75,
   "id": "272db0e4-c285-4ced-a69a-a3edc2429385",
   "metadata": {},
   "outputs": [],
   "source": [
    "scores = rouge_scorer.get_scores(r['answer_llm'], r['answer_orig'])[0]"
   ]
  },
  {
   "cell_type": "code",
   "execution_count": 76,
   "id": "068793e8-df66-423e-bc4d-0bd1debc3943",
   "metadata": {},
   "outputs": [
    {
     "data": {
      "text/plain": [
       "0.45454544954545456"
      ]
     },
     "execution_count": 76,
     "metadata": {},
     "output_type": "execute_result"
    }
   ],
   "source": [
    "scores['rouge-1']['f']"
   ]
  },
  {
   "cell_type": "markdown",
   "id": "d8d4a96f-ff65-49b1-9e18-2362569c30b8",
   "metadata": {},
   "source": [
    "*Answer to question 4: 0.45*"
   ]
  },
  {
   "cell_type": "markdown",
   "id": "b26cf6c9-5907-41cd-80b8-b058854879ec",
   "metadata": {},
   "source": [
    "## Q5. Average rouge score\n",
    "*Let's compute the average F-score between rouge-1, rouge-2 and rouge-l for the same record from Q4*"
   ]
  },
  {
   "cell_type": "code",
   "execution_count": 77,
   "id": "ea06f147-daf6-408e-9ba0-cbb67035d63c",
   "metadata": {},
   "outputs": [],
   "source": [
    "rouge_1_f1 = scores['rouge-1']['f']\n",
    "rouge_2_f1 = scores['rouge-2']['f']\n",
    "rouge_l_f1 = scores['rouge-l']['f']"
   ]
  },
  {
   "cell_type": "code",
   "execution_count": 79,
   "id": "d71a5815-5c29-4470-98bc-d24537b7e8e1",
   "metadata": {},
   "outputs": [
    {
     "data": {
      "text/plain": [
       "0.35490034990035496"
      ]
     },
     "execution_count": 79,
     "metadata": {},
     "output_type": "execute_result"
    }
   ],
   "source": [
    "average_f1 = (rouge_1_f1 + rouge_2_f1 + rouge_l_f1) / 3\n",
    "average_f1"
   ]
  },
  {
   "cell_type": "markdown",
   "id": "d5490947-e200-456f-8519-f4a7f49974fc",
   "metadata": {},
   "source": [
    "*Answer to question 5: 0.35*"
   ]
  },
  {
   "cell_type": "markdown",
   "id": "d7f30b84-ee60-4354-8a6b-c156ca7ed623",
   "metadata": {},
   "source": [
    "## Q6. Average rouge score for all the data points\n",
    "*Now let's compute the score for all the records and create a dataframe from them.*\n",
    "\n",
    "*What's the average rouge_2 across all the records?*"
   ]
  },
  {
   "cell_type": "code",
   "execution_count": 86,
   "id": "00acb69a-fe58-49a2-9249-fd15e08c9215",
   "metadata": {},
   "outputs": [
    {
     "data": {
      "application/vnd.jupyter.widget-view+json": {
       "model_id": "9fbab87f3de74863b03fb7db5fa2829a",
       "version_major": 2,
       "version_minor": 0
      },
      "text/plain": [
       "  0%|          | 0/300 [00:00<?, ?it/s]"
      ]
     },
     "metadata": {},
     "output_type": "display_data"
    }
   ],
   "source": [
    "rouge_2_f1_scores = []\n",
    "\n",
    "# Compute ROUGE-2 F-scores for all records\n",
    "for index, record in tqdm(df_new.iterrows(), total=df.shape[0]):\n",
    "    scores = rouge_scorer.get_scores(record['answer_llm'], record['answer_orig'])[0]\n",
    "    rouge_2_f1 = scores['rouge-2']['f']\n",
    "    rouge_2_f1_scores.append(rouge_2_f1)\n",
    "\n",
    "# Compute the average ROUGE-2 F-score\n",
    "average_rouge_2_f1 = sum(rouge_2_f1_scores) / len(rouge_2_f1_scores)"
   ]
  },
  {
   "cell_type": "code",
   "execution_count": 87,
   "id": "c9f01cfe-f6f1-4684-9793-1438aa6694a3",
   "metadata": {},
   "outputs": [
    {
     "name": "stdout",
     "output_type": "stream",
     "text": [
      "Average ROUGE-2 F1 Score across all records: 0.20696501983423318\n"
     ]
    }
   ],
   "source": [
    "print(f\"Average ROUGE-2 F1 Score across all records: {average_rouge_2_f1}\")"
   ]
  },
  {
   "cell_type": "markdown",
   "id": "2fbed3df-1973-446f-b630-913ab8477d89",
   "metadata": {},
   "source": [
    "*Answer to question 6: 0.20*"
   ]
  }
 ],
 "metadata": {
  "kernelspec": {
   "display_name": "Python 3 (ipykernel)",
   "language": "python",
   "name": "python3"
  },
  "language_info": {
   "codemirror_mode": {
    "name": "ipython",
    "version": 3
   },
   "file_extension": ".py",
   "mimetype": "text/x-python",
   "name": "python",
   "nbconvert_exporter": "python",
   "pygments_lexer": "ipython3",
   "version": "3.10.13"
  }
 },
 "nbformat": 4,
 "nbformat_minor": 5
}
